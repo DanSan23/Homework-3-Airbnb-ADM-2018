{
 "cells": [
  {
   "cell_type": "code",
   "execution_count": 2,
   "metadata": {},
   "outputs": [],
   "source": [
    "import csv\n",
    "import re\n",
    "import nltk\n",
    "from nltk.corpus import stopwords\n",
    "from nltk.tokenize import wordpunct_tokenize\n",
    "from nltk.tokenize import RegexpTokenizer\n",
    "from nltk.stem.snowball import SnowballStemmer\n",
    "from nltk.stem.porter import PorterStemmer"
   ]
  },
  {
   "cell_type": "markdown",
   "metadata": {},
   "source": [
    "#  Create documents"
   ]
  },
  {
   "cell_type": "code",
   "execution_count": null,
   "metadata": {},
   "outputs": [],
   "source": [
    "with open('Airbnb_Texas_Rentals.tsv', 'r', encoding = \"utf8\") as all_rev:\n",
    "    csv_reader = csv.reader(all_rev)\n",
    "    ind = -1\n",
    "    for row in all_rev:\n",
    "        ind += 1\n",
    "        if ind == 0:\n",
    "            continue\n",
    "        else:\n",
    "            if row == '\\n':\n",
    "                ind -= 1\n",
    "            else:\n",
    "                new_title = r'C:\\Users\\Daniele\\fileAIR\\doc_' + str(ind) + '.tsv'\n",
    "                csv_writer = csv.writer(open(new_title, 'w', encoding = \"utf8\"), delimiter ='\\t')\n",
    "                row1 = row.split(\"\\t\")[1:]\n",
    "                csv_writer.writerow(row1)"
   ]
  },
  {
   "cell_type": "markdown",
   "metadata": {},
   "source": [
    "# Search Engine"
   ]
  },
  {
   "cell_type": "code",
   "execution_count": 3,
   "metadata": {},
   "outputs": [],
   "source": [
    "def preprocess(sentence):\n",
    "    sentence = sentence.lower()\n",
    "    tokenizer = RegexpTokenizer(r'\\w+')\n",
    "    tokens = tokenizer.tokenize(sentence)\n",
    "    filtered_words = [w for w in tokens if not w in stopwords.words('english')]\n",
    "    return \" \".join(filtered_words)"
   ]
  },
  {
   "cell_type": "code",
   "execution_count": 4,
   "metadata": {},
   "outputs": [
    {
     "name": "stdout",
     "output_type": "stream",
     "text": [
      "Welcome to stay in private room with queen bed and detached private bathroom on the second floor. Another private bedroom with sofa bed is available for additional guests. 10$ for an additional guest.10min from IAH airportAirport pick-up/drop off is available for $10/trip.\n"
     ]
    }
   ],
   "source": [
    "with open('doc_1.tsv', 'r') as csvfile:\n",
    "    file1 = csv.reader(csvfile, delimiter='\\t')\n",
    "    columns = [i for i in file1]\n",
    "    description = columns[0][4]\n",
    "    description =description.replace('\\\\n','')\n",
    "print(description)    "
   ]
  }
 ],
 "metadata": {
  "kernelspec": {
   "display_name": "Python 3",
   "language": "python",
   "name": "python3"
  },
  "language_info": {
   "codemirror_mode": {
    "name": "ipython",
    "version": 3
   },
   "file_extension": ".py",
   "mimetype": "text/x-python",
   "name": "python",
   "nbconvert_exporter": "python",
   "pygments_lexer": "ipython3",
   "version": "3.6.3"
  }
 },
 "nbformat": 4,
 "nbformat_minor": 2
}
