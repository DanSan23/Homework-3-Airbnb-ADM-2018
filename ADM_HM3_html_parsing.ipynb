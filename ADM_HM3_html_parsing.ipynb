{
 "cells": [
  {
   "cell_type": "code",
   "execution_count": 11,
   "metadata": {},
   "outputs": [],
   "source": [
    "import requests\n",
    "from bs4 import BeautifulSoup\n",
    "\n",
    "url=\"https://www.airbnb.com/rooms/17481455?location=Cibolo%2C%20TX\"\n",
    "response = requests.get(url)\n",
    "\n",
    "# Reading the html text using bs4 library\n",
    "soup = BeautifulSoup(response.text, \"html5lib\")"
   ]
  },
  {
   "cell_type": "code",
   "execution_count": 20,
   "metadata": {},
   "outputs": [],
   "source": [
    "def get_rating_score(soup_html):\n",
    "    for element in soup_html.find(id=\"reviews\"):\n",
    "        # example tag in html text: <div content=\"4.5\" itemprop=\"ratingValue\">\n",
    "        r = element.find_all(\"div\", itemprop=\"ratingValue\")\n",
    "        r = str(r[0])\n",
    "        try:\n",
    "            rating_score = float(r[14:17]) #if it is a float type i.e. 4.5\n",
    "        except:\n",
    "            rating_score = float(r[14:15]) #if it is an int type i.e. 4\n",
    "        return rating_score"
   ]
  },
  {
   "cell_type": "code",
   "execution_count": 70,
   "metadata": {},
   "outputs": [
    {
     "data": {
      "text/plain": [
       "4.5"
      ]
     },
     "execution_count": 70,
     "metadata": {},
     "output_type": "execute_result"
    }
   ],
   "source": [
    "get_rating_score(soup)"
   ]
  },
  {
   "cell_type": "code",
   "execution_count": null,
   "metadata": {},
   "outputs": [],
   "source": [
    "# soup\n",
    "# class_amenities = \"_ncwphzu\""
   ]
  },
  {
   "cell_type": "code",
   "execution_count": null,
   "metadata": {},
   "outputs": [
    {
     "name": "stdout",
     "output_type": "stream",
     "text": [
      "https://www.airbnb.com/rooms/18520444?location=Cleveland%2C%20TX\n",
      "https://www.airbnb.com/rooms/17481455?location=Cibolo%2C%20TX\n",
      "https://www.airbnb.com/rooms/16926307?location=Beach%20City%2C%20TX\n",
      "NOT DONE:  https://www.airbnb.com/rooms/16926307?location=Beach%20City%2C%20TX\n",
      "https://www.airbnb.com/rooms/11839729?location=College%20Station%2C%20TX\n",
      "NOT DONE:  https://www.airbnb.com/rooms/11839729?location=College%20Station%2C%20TX\n",
      "https://www.airbnb.com/rooms/17325114?location=Colleyville%2C%20TX\n",
      "NOT DONE:  https://www.airbnb.com/rooms/17325114?location=Colleyville%2C%20TX\n",
      "https://www.airbnb.com/rooms/14466133?location=Cleveland%2C%20TX\n",
      "NOT DONE:  https://www.airbnb.com/rooms/14466133?location=Cleveland%2C%20TX\n",
      "https://www.airbnb.com/rooms/12491762?location=Cedar%20Creek%2C%20TX\n",
      "https://www.airbnb.com/rooms/18977363?location=Cleburne%2C%20TX\n",
      "NOT DONE:  https://www.airbnb.com/rooms/18977363?location=Cleburne%2C%20TX\n",
      "https://www.airbnb.com/rooms/17559848?location=Bayside%2C%20TX\n",
      "NOT DONE:  https://www.airbnb.com/rooms/17559848?location=Bayside%2C%20TX\n",
      "https://www.airbnb.com/rooms/1588127?location=Colorado%20River%2C%20TX\n",
      "https://www.airbnb.com/rooms/7276294?location=Colleyville%2C%20TX\n",
      "https://www.airbnb.com/rooms/4251773?location=Colleyville%2C%20TX\n",
      "https://www.airbnb.com/rooms/658762?location=Colorado%20River%2C%20TX\n"
     ]
    }
   ],
   "source": [
    "import os, csv\n",
    "os.chdir('C:\\\\Users\\\\Asia\\\\Dropbox\\\\ADM-AirBnB\\\\ALL_FILES')\n",
    "\n",
    "number_of_files = 18#259\n",
    "\n",
    "all_files = ['doc_{0}.tsv'.format(i) for i in range(1, number_of_files)] #TODO: range from 1??\n",
    "all_score = []\n",
    "for file in all_files:\n",
    "    try:\n",
    "        with open(file, 'r', encoding=\"utf8\") as csvfile:\n",
    "            tmp_file = csv.reader(csvfile, delimiter='\\t')\n",
    "            columns = [i for i in tmp_file]\n",
    "            url = columns[0][-1]\n",
    "            url = url[1:-2]\n",
    "            print(url)\n",
    "            response = requests.get(url)\n",
    "            # Reading the html text using bs4 library\n",
    "            soup_html = BeautifulSoup(response.text, \"html5lib\")\n",
    "            score = get_rating_score(soup_html)\n",
    "            all_score.append(score)\n",
    "    except Exception as e:\n",
    "        print(\"NOT DONE: \",url)"
   ]
  },
  {
   "cell_type": "code",
   "execution_count": 13,
   "metadata": {},
   "outputs": [],
   "source": [
    "response = requests.get(\"https://www.airbnb.com/rooms/18520444?location=Cleveland%2C%20TX\")"
   ]
  },
  {
   "cell_type": "code",
   "execution_count": null,
   "metadata": {},
   "outputs": [],
   "source": []
  },
  {
   "cell_type": "code",
   "execution_count": null,
   "metadata": {},
   "outputs": [],
   "source": []
  },
  {
   "cell_type": "code",
   "execution_count": null,
   "metadata": {},
   "outputs": [],
   "source": []
  },
  {
   "cell_type": "markdown",
   "metadata": {},
   "source": [
    "# Below is unworking staff; just some tests"
   ]
  },
  {
   "cell_type": "code",
   "execution_count": 5,
   "metadata": {},
   "outputs": [],
   "source": [
    "import multiprocessing as mp\n",
    "import test_functions # function used must be in external file\n",
    "\n",
    "pool = mp.Pool(processes=3)\n",
    "results = [pool.apply(test_functions.cube, args=(x,)) for x in range(1,1000)]\n",
    "# print(results)"
   ]
  },
  {
   "cell_type": "code",
   "execution_count": null,
   "metadata": {},
   "outputs": [],
   "source": [
    "#______________\n",
    "def manual_parse_input_csv(csvfile):\n",
    "    f = open(csvfile,'rb')\n",
    "    in_csvfile = csv.reader(f)\n",
    "    for row in in_csvfile:\n",
    "        print row\n",
    "    f.close()\n",
    "\n",
    "pin = multiprocessing.Process(target=manual_parse_input_csv, args=(infile,)\n",
    "#______________"
   ]
  },
  {
   "cell_type": "code",
   "execution_count": 2,
   "metadata": {},
   "outputs": [],
   "source": [
    "#parallel\n",
    "import multiprocessing as mp"
   ]
  },
  {
   "cell_type": "code",
   "execution_count": null,
   "metadata": {},
   "outputs": [],
   "source": [
    "# Define an output queue\n",
    "output = mp.Queue()\n",
    "\n",
    "# define a example function\n",
    "def rand_string(length, pos, output):\n",
    "    \"\"\" Generates a random string of numbers, lower- and uppercase chars. \"\"\"\n",
    "    rand_str = ''.join(random.choice(\n",
    "                        string.ascii_lowercase\n",
    "                        + string.ascii_uppercase\n",
    "                        + string.digits)\n",
    "                   for i in range(length))\n",
    "    output.put((pos, rand_str))\n",
    "\n",
    "# Setup a list of processes that we want to run\n",
    "processes = [mp.Process(target=rand_string, args=(5, x, output)) for x in range(4)]\n",
    "\n",
    "# Run processes\n",
    "for p in processes:\n",
    "    p.start()\n",
    "\n",
    "# Exit the completed processes\n",
    "for p in processes:\n",
    "    p.join()\n",
    "\n",
    "# Get process results from the output queue\n",
    "results = [output.get() for p in processes]\n",
    "\n",
    "print(results)"
   ]
  },
  {
   "cell_type": "code",
   "execution_count": null,
   "metadata": {},
   "outputs": [],
   "source": [
    "import multiprocessing as mp\n",
    "import csv\n",
    "import test_functions # function used must be in external file (in another case mp does not work)\n",
    "\n",
    "if __name__==\"__main__\":\n",
    "    output = mp.Queue()\n",
    "#------------------\n",
    "# vocabulary_set = set()\n",
    "# docs_list=[]\n",
    "\n",
    "    #         vocabulary_set.update(description)\n",
    "    #         docs_list.append(set(description))\n",
    "\n",
    "# vocabulary = {k:v for v, k in enumerate(vocabulary_set)}\n",
    "\n",
    "#--------------------\n",
    "# pool = mp.Pool(processes=3)\n",
    "# results = [pool.apply(test_functions.clean_one_file, args=(x,csv)) for x in range(1,10)]\n",
    "# print(results)\n",
    "#------------------?\n",
    "from multiprocess import Pool\n",
    "# start your parallel workers at the beginning of your script\n",
    "pool = Pool(4)\n",
    "\n",
    "# execute a computation(s) in parallel\n",
    "result = pool.map(your_function, something_to_iterate_over)\n",
    "result2 = pool.map(another_function, more_stuff_to_iterate_over)\n",
    "\n",
    "# turn off your parallel workers at the end of your script\n",
    "pool.close()\n",
    "#----------------\n",
    "    pin = mp.Process(target=test_functions.clean_one_file, args=(1, output))\n",
    "    pin.start()\n",
    "    pin.join()\n",
    "    print(output.get())\n",
    "\n",
    "#------------------\n",
    "# # Setup a list of processes that we want to run\n",
    "# processes = [mp.Process(target=test_functions.clean_one_file, args=('doc_'+str(x)+'.tsv', x, output)) for x in range(1,3)]\n",
    "\n",
    "# # Run processes\n",
    "# for p in processes:\n",
    "#     p.start()\n",
    "\n",
    "# # Exit the completed processes\n",
    "# for p in processes:\n",
    "#     p.join()\n",
    "\n",
    "# # Get process results from the output queue\n",
    "# results = [output.get() for p in processes]\n",
    "\n",
    "# print(results)"
   ]
  }
 ],
 "metadata": {
  "kernelspec": {
   "display_name": "Python 3",
   "language": "python",
   "name": "python3"
  },
  "language_info": {
   "codemirror_mode": {
    "name": "ipython",
    "version": 3
   },
   "file_extension": ".py",
   "mimetype": "text/x-python",
   "name": "python",
   "nbconvert_exporter": "python",
   "pygments_lexer": "ipython3",
   "version": "3.6.4"
  }
 },
 "nbformat": 4,
 "nbformat_minor": 2
}
